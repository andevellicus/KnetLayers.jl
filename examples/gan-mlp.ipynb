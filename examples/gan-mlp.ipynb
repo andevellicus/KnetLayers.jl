{
 "cells": [
  {
   "cell_type": "markdown",
   "metadata": {},
   "source": [
    "# MLP GAN MNIST"
   ]
  },
  {
   "cell_type": "markdown",
   "metadata": {},
   "source": [
    "This notebook is a demonstration for a simple GAN training on MNIST by using KnetLayers. Let's get started!"
   ]
  },
  {
   "cell_type": "code",
   "execution_count": 1,
   "metadata": {},
   "outputs": [
    {
     "name": "stderr",
     "output_type": "stream",
     "text": [
      "┌ Info: Recompiling stale cache file /Users/ekin/.julia/compiled/v1.1/Knet/f4vSz.ji for Knet [1902f260-5fb4-5aff-8c31-6271790ab950]\n",
      "└ @ Base loading.jl:1184\n",
      "┌ Info: Recompiling stale cache file /Users/ekin/.julia/compiled/v1.1/KnetLayers/ZXBRh.ji for KnetLayers [80bfaf46-ad8a-11e8-19eb-a135e382307b]\n",
      "└ @ Base loading.jl:1184\n",
      "┌ Info: Recompiling stale cache file /Users/ekin/.julia/compiled/v1.1/ImageMagick/0LbNX.ji for ImageMagick [6218d12a-5da1-5696-b52f-db25d2ecc6d1]\n",
      "└ @ Base loading.jl:1184\n",
      "┌ Info: Recompiling stale cache file /Users/ekin/.julia/compiled/v1.1/Images/H8Vxc.ji for Images [916415d5-f1e6-5110-898d-aaa5f9f070e0]\n",
      "└ @ Base loading.jl:1184\n"
     ]
    }
   ],
   "source": [
    "using Pkg; for p in (\"Colors\",\"ImageMagick\",\"Images\"); haskey(Pkg.installed(),p) || Pkg.add(p); end\n",
    "using Knet, KnetLayers, Colors, ImageMagick, Images, Statistics\n",
    "import Knet: Data\n",
    "import KnetLayers: arrtype\n",
    "setoptim!(model,optimizer) = for p in params(model) p.opt=Knet.clone(optimizer) end # Easy optimizer setter\n",
    "#Data\n",
    "include(Knet.dir(\"data\",\"mnist.jl\"))"
   ]
  },
  {
   "cell_type": "markdown",
   "metadata": {},
   "source": [
    "## Discriminator and Generator Networks\n",
    "\n",
    "Discriminator and Generator networks are defined as `D` and `G` respectively. Loss functions `𝑱d` and `𝑱g` are defined according to the equation X in GAN paper. Sample noise function `𝒩` is a normal distribution. Loss functions are defined according to the equations in Algorithm 1 section of the [paper](https://arxiv.org/abs/1406.2661 \"arXiv\"). We use a slightly modified generator loss according to [GAN tricks](https://github.com/soumith/ganhacks#2-a-modified-loss-function \"GAN Tricks\").\n",
    "$$ J_d = -\\frac{1}{m} \\sum_{i=1}^{m} log(D(x^{(i)}) + log(1-D(G(z^{(i)})))$$\n",
    "$$ J_g = -\\frac{1}{m} \\sum_{i=1}^{m} log(D(G(z^{(i)}))) $$ \n",
    "\n",
    "*`𝜀` is used to prevent log functions from resulting NaN values."
   ]
  },
  {
   "cell_type": "code",
   "execution_count": 2,
   "metadata": {},
   "outputs": [
    {
     "data": {
      "text/plain": [
       "𝒩 (generic function with 1 method)"
      ]
     },
     "execution_count": 2,
     "metadata": {},
     "output_type": "execute_result"
    }
   ],
   "source": [
    "global const 𝜀=Float32(1e-8)\n",
    "𝑱d(D,x,Gz) = -mean(log.(D(x) .+ 𝜀) .+ log.((1+𝜀) .- D(Gz)))/2   #discriminator loss\n",
    "𝑱g(D,G,z)  = -mean(log.(D(G(z)) .+ 𝜀)) # generator loss          \n",
    "𝒩(input, batch) = arrtype(randn(Float32, input, batch))  #sample noise"
   ]
  },
  {
   "cell_type": "markdown",
   "metadata": {},
   "source": [
    "## Train & Test Function\n",
    "\n",
    "This `runmodel` function is implementing training procedure described in GAN paper. It first update discriminator with specified optimizer, then update generator network. Same function can be used in test mode by passing `train` argument as false. In the test mode it calculates losses instead of gradients."
   ]
  },
  {
   "cell_type": "code",
   "execution_count": 3,
   "metadata": {},
   "outputs": [
    {
     "data": {
      "text/plain": [
       "runmodel (generic function with 1 method)"
      ]
     },
     "execution_count": 3,
     "metadata": {},
     "output_type": "execute_result"
    }
   ],
   "source": [
    "function runmodel(D, G, data, 𝞗; dtst=nothing, train=false, saveinterval=20)\n",
    "    gloss = dloss = total= 0.0; B = 𝞗[:batchsize]    \n",
    "    if train\n",
    "        Dprms, Gprms, L = params(D), params(G), 𝞗[:epochs] \n",
    "    else\n",
    "        Dprms, Gprms, L = nothing, nothing, 1\n",
    "    end\n",
    "    \n",
    "    for i=1:L\n",
    "        for (x,_) in data     \n",
    "            Gz = G(𝒩(𝞗[:ginp], B)) #Generate Fake Images\n",
    "            z = 𝒩(𝞗[:ginp], 2B)     #Sample z from Noise\n",
    "\n",
    "            if train \n",
    "                jd = @diff 𝑱d(D, x, Gz)\n",
    "                for w in Dprms update!(w,grad(jd,w))  end\n",
    "                jg = @diff 𝑱g(D, G, z)\n",
    "                for w in Gprms update!(w,grad(jg,w))  end\n",
    "            else\n",
    "                jd = 𝑱d(D, x, Gz)\n",
    "                jg = 𝑱g(D, G, z)\n",
    "            end          \n",
    "            dloss += 2B*value(jd); gloss += 2B*value(jg); total += 2B            \n",
    "        end\n",
    "        train ? runmodel(D, G, dtst, 𝞗; train=false) : println((gloss/total, dloss/total))\n",
    "        i % saveinterval == 0 && generate_and_show(D, G, 100, 𝞗)  # save 10 images\n",
    "    end\n",
    "end"
   ]
  },
  {
   "cell_type": "markdown",
   "metadata": {},
   "source": [
    "## Generate and Display\n",
    "\n",
    "This function generates a random `number` of images and displays them."
   ]
  },
  {
   "cell_type": "code",
   "execution_count": 5,
   "metadata": {},
   "outputs": [
    {
     "data": {
      "text/plain": [
       "generate_and_show (generic function with 1 method)"
      ]
     },
     "execution_count": 5,
     "metadata": {},
     "output_type": "execute_result"
    }
   ],
   "source": [
    "function generate_and_show(D,G,number,𝞗)\n",
    "    Gz    = convert(Array,G(𝒩(𝞗[:ginp], number))) .> 0.5\n",
    "    Gz    = reshape(Gz, (28, 28, number))\n",
    "    L     = floor(Int, sqrt(number))\n",
    "    grid  = []\n",
    "    for i = 1:L:number\n",
    "        push!(grid, reshape(permutedims(Gz[:,:,i:i+L-1], (2,3,1)), (L*28,28)))\n",
    "    end\n",
    "    display(Gray.(hcat(grid...)))\n",
    "end"
   ]
  },
  {
   "cell_type": "markdown",
   "metadata": {},
   "source": [
    "## Model&Data Run\n",
    "We will load MNIST data and initalize our MLP models\n"
   ]
  },
  {
   "cell_type": "code",
   "execution_count": 6,
   "metadata": {},
   "outputs": [],
   "source": [
    "𝞗 = Dict(:batchsize=>32,:epochs=>80,:ginp=>256,:genh=>512,:disch=>512,:optim=>Adam(;lr=0.0002))\n",
    "G = Chain(MLP(𝞗[:ginp], 𝞗[:genh], 784; activation=ELU()), Sigm())\n",
    "D = Chain(MLP(784, 𝞗[:disch], 1; activation=ELU()), Sigm())\n",
    "setoptim!(D, 𝞗[:optim]); setoptim!(G, 𝞗[:optim])"
   ]
  },
  {
   "cell_type": "code",
   "execution_count": 7,
   "metadata": {},
   "outputs": [
    {
     "name": "stderr",
     "output_type": "stream",
     "text": [
      "┌ Info: Loading MNIST...\n",
      "└ @ Main /Users/ekin/.julia/dev/Knet/data/mnist.jl:33\n"
     ]
    },
    {
     "data": {
      "text/plain": [
       "(Data{Tuple{Array{Float32,2},Array{UInt8,1}}}(Float32[0.0 0.0 … 0.0 0.0; 0.0 0.0 … 0.0 0.0; … ; 0.0 0.0 … 0.0 0.0; 0.0 0.0 … 0.0 0.0], UInt8[0x05 0x0a … 0x06 0x08], 32, 60000, false, 59969, 1:60000, false, (784, Colon()), (60000,), Array{Float32,N} where N, Array{UInt8,1}), Data{Tuple{Array{Float32,2},Array{UInt8,1}}}(Float32[0.0 0.0 … 0.0 0.0; 0.0 0.0 … 0.0 0.0; … ; 0.0 0.0 … 0.0 0.0; 0.0 0.0 … 0.0 0.0], UInt8[0x07 0x02 … 0x05 0x06], 32, 10000, false, 9969, 1:10000, false, (784, Colon()), (10000,), Array{Float32,N} where N, Array{UInt8,1}))"
      ]
     },
     "execution_count": 7,
     "metadata": {},
     "output_type": "execute_result"
    }
   ],
   "source": [
    "xtrn,ytrn,xtst,ytst = mnist()\n",
    "global dtrn,dtst = mnistdata(xsize=(784,:),xtype=arrtype, batchsize=𝞗[:batchsize]) "
   ]
  },
  {
   "cell_type": "markdown",
   "metadata": {},
   "source": [
    "## RUN!"
   ]
  },
  {
   "cell_type": "code",
   "execution_count": 8,
   "metadata": {
    "scrolled": false
   },
   "outputs": [
    {
     "data": {
      "image/png": "[encoded data removed]",
      "text/plain": [
       "280×280 Array{Gray{Bool},2} with eltype Gray{Bool}:\n",
       " Gray{Bool}(true)   Gray{Bool}(true)   …  Gray{Bool}(true) \n",
       " Gray{Bool}(false)  Gray{Bool}(true)      Gray{Bool}(false)\n",
       " Gray{Bool}(false)  Gray{Bool}(true)      Gray{Bool}(false)\n",
       " Gray{Bool}(true)   Gray{Bool}(true)      Gray{Bool}(false)\n",
       " Gray{Bool}(false)  Gray{Bool}(true)      Gray{Bool}(false)\n",
       " Gray{Bool}(true)   Gray{Bool}(true)   …  Gray{Bool}(true) \n",
       " Gray{Bool}(true)   Gray{Bool}(false)     Gray{Bool}(true) \n",
       " Gray{Bool}(true)   Gray{Bool}(true)      Gray{Bool}(false)\n",
       " Gray{Bool}(true)   Gray{Bool}(false)     Gray{Bool}(false)\n",
       " Gray{Bool}(false)  Gray{Bool}(false)     Gray{Bool}(false)\n",
       " Gray{Bool}(true)   Gray{Bool}(true)   …  Gray{Bool}(true) \n",
       " Gray{Bool}(true)   Gray{Bool}(false)     Gray{Bool}(false)\n",
       " Gray{Bool}(true)   Gray{Bool}(false)     Gray{Bool}(true) \n",
       " ⋮                                     ⋱                   \n",
       " Gray{Bool}(false)  Gray{Bool}(true)      Gray{Bool}(false)\n",
       " Gray{Bool}(true)   Gray{Bool}(true)      Gray{Bool}(false)\n",
       " Gray{Bool}(false)  Gray{Bool}(false)  …  Gray{Bool}(false)\n",
       " Gray{Bool}(false)  Gray{Bool}(true)      Gray{Bool}(true) \n",
       " Gray{Bool}(false)  Gray{Bool}(true)      Gray{Bool}(true) \n",
       " Gray{Bool}(false)  Gray{Bool}(false)     Gray{Bool}(true) \n",
       " Gray{Bool}(false)  Gray{Bool}(true)      Gray{Bool}(false)\n",
       " Gray{Bool}(true)   Gray{Bool}(true)   …  Gray{Bool}(true) \n",
       " Gray{Bool}(false)  Gray{Bool}(true)      Gray{Bool}(false)\n",
       " Gray{Bool}(true)   Gray{Bool}(false)     Gray{Bool}(false)\n",
       " Gray{Bool}(true)   Gray{Bool}(true)      Gray{Bool}(true) \n",
       " Gray{Bool}(true)   Gray{Bool}(true)      Gray{Bool}(true) "
      ]
     },
     "metadata": {},
     "output_type": "display_data"
    },
    {
     "name": "stdout",
     "output_type": "stream",
     "text": [
      "(0.5725320814511715, 0.7633941244238462)\n",
      "(3.757010958897762, 0.08246376914664721)\n",
      "(3.124031757697081, 0.17143887453354323)\n",
      "(2.6480280436002293, 0.2663734230475548)\n",
      "(2.222289816691325, 0.3838006578958951)\n",
      "(2.6380726328262916, 0.3150782165571283)\n",
      "(2.4936755146735754, 0.2730667415337685)\n",
      "(2.440090148112713, 0.30623872434863675)\n",
      "(2.591330717771481, 0.24278122110244554)\n",
      "(2.97639208420729, 0.29732600274758464)\n",
      "(3.119292745987574, 0.22396401898601118)\n",
      "(4.250656330432648, 0.25675608401294225)\n"
     ]
    },
    {
     "ename": "InterruptException",
     "evalue": "InterruptException:",
     "output_type": "error",
     "traceback": [
      "InterruptException:",
      "",
      "Stacktrace:",
      " [1] #forw#1(::Base.Iterators.Pairs{Union{},Union{},Tuple{},NamedTuple{(),Tuple{}}}, ::Function, ::Function, ::Function, ::Vararg{Any,N} where N) at /Users/ekin/.julia/dev/AutoGrad/src/core.jl:65",
      " [2] forw at /Users/ekin/.julia/dev/AutoGrad/src/core.jl:65 [inlined]",
      " [3] broadcasted at ./none:0 [inlined]",
      " [4] (::Bias{Param{Array{Float32,1}}})(::Array{Float32,2}) at /Users/ekin/.julia/dev/KnetLayers/src/primitive.jl:81",
      " [5] Linear at /Users/ekin/.julia/dev/KnetLayers/src/primitive.jl:112 [inlined]",
      " [6] (::MLP)(::Array{Float32,2}) at /Users/ekin/.julia/dev/KnetLayers/src/special.jl:36",
      " [7] applychain(::Tuple{MLP,Sigm}, ::Array{Float32,2}) at /Users/ekin/.julia/dev/KnetLayers/src/chain.jl:25",
      " [8] Chain at /Users/ekin/.julia/dev/KnetLayers/src/chain.jl:27 [inlined]",
      " [9] 𝑱d(::Chain{Tuple{MLP,Sigm}}, ::Array{Float32,2}, ::Array{Float32,2}) at ./In[2]:2",
      " [10] #runmodel#8(::Nothing, ::Bool, ::Int64, ::Function, ::Chain{Tuple{MLP,Sigm}}, ::Chain{Tuple{MLP,Sigm}}, ::Data{Tuple{Array{Float32,2},Array{UInt8,1}}}, ::Dict{Symbol,Any}) at ./In[3]:20",
      " [11] #runmodel at ./In[3]:0 [inlined]",
      " [12] #runmodel#8(::Data{Tuple{Array{Float32,2},Array{UInt8,1}}}, ::Bool, ::Int64, ::Function, ::Chain{Tuple{MLP,Sigm}}, ::Chain{Tuple{MLP,Sigm}}, ::Data{Tuple{Array{Float32,2},Array{UInt8,1}}}, ::Dict{Symbol,Any}) at ./In[3]:25",
      " [13] (::getfield(Main, Symbol(\"#kw##runmodel\")))(::NamedTuple{(:train, :dtst),Tuple{Bool,Data{Tuple{Array{Float32,2},Array{UInt8,1}}}}}, ::typeof(runmodel), ::Chain{Tuple{MLP,Sigm}}, ::Chain{Tuple{MLP,Sigm}}, ::Data{Tuple{Array{Float32,2},Array{UInt8,1}}}, ::Dict{Symbol,Any}) at ./none:0",
      " [14] top-level scope at In[8]:3"
     ]
    }
   ],
   "source": [
    "generate_and_show(D, G, 100, 𝞗)\n",
    "runmodel(D, G, dtst, 𝞗; train=false) # initial losses\n",
    "runmodel(D, G, dtrn, 𝞗; train=true, dtst=dtst) # training"
   ]
  },
  {
   "cell_type": "code",
   "execution_count": 9,
   "metadata": {},
   "outputs": [
    {
     "data": {
      "image/png": "[encoded data removed]",
      "text/plain": [
       "280×280 Array{Gray{Bool},2} with eltype Gray{Bool}:\n",
       " Gray{Bool}(false)  Gray{Bool}(false)  …  Gray{Bool}(false)\n",
       " Gray{Bool}(false)  Gray{Bool}(false)     Gray{Bool}(false)\n",
       " Gray{Bool}(false)  Gray{Bool}(false)     Gray{Bool}(false)\n",
       " Gray{Bool}(false)  Gray{Bool}(false)     Gray{Bool}(false)\n",
       " Gray{Bool}(false)  Gray{Bool}(false)     Gray{Bool}(false)\n",
       " Gray{Bool}(false)  Gray{Bool}(false)  …  Gray{Bool}(false)\n",
       " Gray{Bool}(false)  Gray{Bool}(false)     Gray{Bool}(false)\n",
       " Gray{Bool}(false)  Gray{Bool}(false)     Gray{Bool}(false)\n",
       " Gray{Bool}(false)  Gray{Bool}(false)     Gray{Bool}(false)\n",
       " Gray{Bool}(false)  Gray{Bool}(false)     Gray{Bool}(false)\n",
       " Gray{Bool}(false)  Gray{Bool}(false)  …  Gray{Bool}(false)\n",
       " Gray{Bool}(false)  Gray{Bool}(false)     Gray{Bool}(false)\n",
       " Gray{Bool}(false)  Gray{Bool}(false)     Gray{Bool}(false)\n",
       " ⋮                                     ⋱                   \n",
       " Gray{Bool}(false)  Gray{Bool}(false)     Gray{Bool}(false)\n",
       " Gray{Bool}(false)  Gray{Bool}(false)     Gray{Bool}(false)\n",
       " Gray{Bool}(false)  Gray{Bool}(false)  …  Gray{Bool}(false)\n",
       " Gray{Bool}(false)  Gray{Bool}(false)     Gray{Bool}(false)\n",
       " Gray{Bool}(false)  Gray{Bool}(false)     Gray{Bool}(false)\n",
       " Gray{Bool}(false)  Gray{Bool}(false)     Gray{Bool}(false)\n",
       " Gray{Bool}(false)  Gray{Bool}(false)     Gray{Bool}(false)\n",
       " Gray{Bool}(false)  Gray{Bool}(false)  …  Gray{Bool}(false)\n",
       " Gray{Bool}(false)  Gray{Bool}(false)     Gray{Bool}(false)\n",
       " Gray{Bool}(false)  Gray{Bool}(false)     Gray{Bool}(false)\n",
       " Gray{Bool}(false)  Gray{Bool}(false)     Gray{Bool}(false)\n",
       " Gray{Bool}(false)  Gray{Bool}(false)     Gray{Bool}(false)"
      ]
     },
     "metadata": {},
     "output_type": "display_data"
    }
   ],
   "source": [
    "generate_and_show(D, G, 100, 𝞗)"
   ]
  },
  {
   "cell_type": "code",
   "execution_count": null,
   "metadata": {},
   "outputs": [],
   "source": []
  }
 ],
 "metadata": {
  "kernelspec": {
   "display_name": "Julia 1.1.0",
   "language": "julia",
   "name": "julia-1.1"
  },
  "language_info": {
   "file_extension": ".jl",
   "mimetype": "application/julia",
   "name": "julia",
   "version": "1.1.0"
  }
 },
 "nbformat": 4,
 "nbformat_minor": 2
}
